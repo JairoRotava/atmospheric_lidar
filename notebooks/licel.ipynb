{
 "cells": [
  {
   "cell_type": "markdown",
   "metadata": {
    "tags": []
   },
   "source": [
    "# Reading a *scanning* Licel binary files"
   ]
  },
  {
   "cell_type": "code",
   "execution_count": 1,
   "metadata": {
    "collapsed": false,
    "jupyter": {
     "outputs_hidden": false
    },
    "pycharm": {
     "name": "#%%\n"
    }
   },
   "outputs": [],
   "source": [
    "# Import plotting library\n",
    "from matplotlib import pyplot as plt\n",
    "\n",
    "# Import the module for raymetrics scanning files\n",
    "from atmospheric_lidar import raymetrics"
   ]
  },
  {
   "cell_type": "code",
   "execution_count": 2,
   "metadata": {
    "collapsed": false,
    "jupyter": {
     "outputs_hidden": false
    },
    "pycharm": {
     "name": "#%%\n"
    }
   },
   "outputs": [
    {
     "name": "stdout",
     "output_type": "stream",
     "text": [
      "Start time: 2021-02-12 14:55:44+00:00, Stop times: 2021-02-12 14:56:12+00:00\n",
      "Latitude: 49.0953, Longitude: 8.4298\n",
      "Zenith angle:  0.0\n",
      "Azimuth angle:  0.0\n"
     ]
    }
   ],
   "source": [
    "# Read the file\n",
    "licel_file = raymetrics.ScanningFile('./sample_data/RM2121214.561377')\n",
    "\n",
    "# The licel file object has several properties describing the file\n",
    "print(\"Start time: {}, Stop times: {}\".format(licel_file.start_time, licel_file.stop_time))\n",
    "print(\"Latitude: {}, Longitude: {}\".format(licel_file.latitude, licel_file.longitude))\n",
    "print(\"Zenith angle: \", licel_file.zenith_angle)\n",
    "print(\"Azimuth angle: \", licel_file.azimuth_angle)\n"
   ]
  },
  {
   "cell_type": "code",
   "execution_count": 3,
   "metadata": {
    "collapsed": false,
    "jupyter": {
     "outputs_hidden": false
    },
    "pycharm": {
     "name": "#%%\n"
    }
   },
   "outputs": [
    {
     "name": "stdout",
     "output_type": "stream",
     "text": [
      "Available channels:  odict_keys(['00355.p_an', '00355.p_ph', '00355.s_an', '00355.s_ph'])\n"
     ]
    }
   ],
   "source": [
    "# See available channel\n",
    "# Note that the channels have a semi-descriptive name.\n",
    "# This does not work always and you might need to set \"use_id_as_name=True\" when reading the file.\n",
    "print(\"Available channels: \", licel_file.channels.keys())"
   ]
  },
  {
   "cell_type": "code",
   "execution_count": 4,
   "metadata": {
    "collapsed": false,
    "jupyter": {
     "outputs_hidden": false
    },
    "pycharm": {
     "name": "#%%\n"
    }
   },
   "outputs": [
    {
     "name": "stdout",
     "output_type": "stream",
     "text": [
      "Channel name:  00355.p_an\n",
      "Channel id:  BT0\n",
      "Wavelength:  355\n",
      "Number of shots:  601\n",
      "Is analog?:  True\n",
      "ADC bits:  12\n"
     ]
    }
   ],
   "source": [
    "# Get one channel of interest\n",
    "channel = licel_file.channels['00355.p_an']\n",
    "\n",
    "# The channel object has several properties describing the channel data. E.g.\n",
    "print(\"Channel name: \", channel.channel_name)\n",
    "print('Channel id: ', channel.id)\n",
    "print(\"Wavelength: \", channel.wavelength)\n",
    "print(\"Number of shots: \", channel.number_of_shots)\n",
    "print(\"Is analog?: \", channel.is_analog)\n",
    "print(\"ADC bits: \", channel.adcbits)"
   ]
  },
  {
   "cell_type": "code",
   "execution_count": 5,
   "metadata": {
    "collapsed": false,
    "jupyter": {
     "outputs_hidden": false
    },
    "pycharm": {
     "name": "#%%\n"
    }
   },
   "outputs": [
    {
     "data": {
      "text/plain": [
       "array([3.05932928, 3.05884169, 3.05900422, ..., 3.05876043, 3.05811031,\n",
       "       3.05530668])"
      ]
     },
     "execution_count": 5,
     "metadata": {},
     "output_type": "execute_result"
    }
   ],
   "source": [
    "# Data are stored in the .data property, already converted in physical quantities\n",
    "channel.data"
   ]
  },
  {
   "cell_type": "code",
   "execution_count": 6,
   "metadata": {
    "collapsed": false,
    "jupyter": {
     "outputs_hidden": false
    },
    "pycharm": {
     "name": "#%%\n"
    }
   },
   "outputs": [
    {
     "data": {
      "text/plain": [
       "Text(0.5, 0, 'Range (m)')"
      ]
     },
     "execution_count": 6,
     "metadata": {},
     "output_type": "execute_result"
    },
    {
     "data": {
      "image/png": "[encoded data removed]",
      "text/plain": [
       "<Figure size 432x288 with 1 Axes>"
      ]
     },
     "metadata": {
      "needs_background": "light"
     },
     "output_type": "display_data"
    }
   ],
   "source": [
    "plt.plot(channel.z, channel.data)\n",
    "plt.ylabel('Signal (mV)')\n",
    "plt.xlabel('Range (m)')"
   ]
  },
  {
   "cell_type": "code",
   "execution_count": 7,
   "metadata": {
    "collapsed": false,
    "jupyter": {
     "outputs_hidden": false
    },
    "pycharm": {
     "name": "#%%\n"
    }
   },
   "outputs": [
    {
     "name": "stdout",
     "output_type": "stream",
     "text": [
      "Has photodiode?: True\n",
      "Photodiode keys:  odict_keys(['00355.p_an'])\n"
     ]
    }
   ],
   "source": [
    "# Photodiodes are stored in the .photodiodes dictionary\n",
    "print(\"Has photodiode?:\", licel_file.has_photodiode )\n",
    "\n",
    "print(\"Photodiode keys: \", licel_file.photodiodes.keys())"
   ]
  },
  {
   "cell_type": "code",
   "execution_count": 8,
   "metadata": {
    "collapsed": false,
    "jupyter": {
     "outputs_hidden": false
    },
    "pycharm": {
     "name": "#%%\n"
    }
   },
   "outputs": [
    {
     "name": "stdout",
     "output_type": "stream",
     "text": [
      "Photodiode id:  PD0\n"
     ]
    },
    {
     "data": {
      "text/plain": [
       "Text(0, 0.5, 'mV')"
      ]
     },
     "execution_count": 8,
     "metadata": {},
     "output_type": "execute_result"
    },
    {
     "data": {
      "image/png": "[encoded data removed]",
      "text/plain": [
       "<Figure size 432x288 with 1 Axes>"
      ]
     },
     "metadata": {
      "needs_background": "light"
     },
     "output_type": "display_data"
    }
   ],
   "source": [
    "# Get one photodiode\n",
    "photodiode = licel_file.photodiodes['00355.p_an']\n",
    "\n",
    "# Again, several properties are available\n",
    "print('Photodiode id: ', photodiode.id)\n",
    "\n",
    "plt.plot(photodiode.data)\n",
    "plt.xlabel('Shot #')\n",
    "plt.ylabel('mV')"
   ]
  }
 ],
 "metadata": {
  "kernelspec": {
   "display_name": "Python 3",
   "language": "python",
   "name": "python3"
  },
  "language_info": {
   "codemirror_mode": {
    "name": "ipython",
    "version": 3
   },
   "file_extension": ".py",
   "mimetype": "text/x-python",
   "name": "python",
   "nbconvert_exporter": "python",
   "pygments_lexer": "ipython3",
   "version": "3.8.5"
  }
 },
 "nbformat": 4,
 "nbformat_minor": 4
}
